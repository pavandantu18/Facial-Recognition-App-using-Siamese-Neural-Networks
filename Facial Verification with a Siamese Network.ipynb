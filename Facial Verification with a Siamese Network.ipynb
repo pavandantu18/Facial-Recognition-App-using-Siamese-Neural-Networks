{
 "cells": [
  {
   "cell_type": "code",
   "execution_count": 3,
   "id": "1819d385-d918-4077-a889-e7c4ca7ac01e",
   "metadata": {},
   "outputs": [],
   "source": [
    "#1 Set up"
   ]
  },
  {
   "cell_type": "code",
   "execution_count": 5,
   "id": "d5778e97-caa7-414a-acbb-8577513e977d",
   "metadata": {},
   "outputs": [
    {
     "name": "stdout",
     "output_type": "stream",
     "text": [
      "Requirement already satisfied: pip in c:\\users\\pavan\\anaconda3\\lib\\site-packages (24.0)\n",
      "Collecting pip\n",
      "  Downloading pip-24.2-py3-none-any.whl.metadata (3.6 kB)\n",
      "Requirement already satisfied: setuptools in c:\\users\\pavan\\anaconda3\\lib\\site-packages (69.5.1)\n",
      "Collecting setuptools\n",
      "  Downloading setuptools-75.2.0-py3-none-any.whl.metadata (6.9 kB)\n",
      "Requirement already satisfied: wheel in c:\\users\\pavan\\anaconda3\\lib\\site-packages (0.43.0)\n",
      "Collecting wheel\n",
      "  Downloading wheel-0.44.0-py3-none-any.whl.metadata (2.3 kB)\n",
      "Downloading pip-24.2-py3-none-any.whl (1.8 MB)\n",
      "   ---------------------------------------- 0.0/1.8 MB ? eta -:--:--\n",
      "   - -------------------------------------- 0.1/1.8 MB 2.0 MB/s eta 0:00:01\n",
      "   ------------ --------------------------- 0.6/1.8 MB 7.4 MB/s eta 0:00:01\n",
      "   -------------------------------- ------- 1.5/1.8 MB 11.9 MB/s eta 0:00:01\n",
      "   ---------------------------------------- 1.8/1.8 MB 12.8 MB/s eta 0:00:00\n",
      "Downloading setuptools-75.2.0-py3-none-any.whl (1.2 MB)\n",
      "   ---------------------------------------- 0.0/1.2 MB ? eta -:--:--\n",
      "   ---------------------------------------- 1.2/1.2 MB 40.0 MB/s eta 0:00:00\n",
      "Downloading wheel-0.44.0-py3-none-any.whl (67 kB)\n",
      "   ---------------------------------------- 0.0/67.1 kB ? eta -:--:--\n",
      "   ---------------------------------------- 67.1/67.1 kB ? eta 0:00:00\n"
     ]
    },
    {
     "name": "stderr",
     "output_type": "stream",
     "text": [
      "ERROR: To modify pip, please run the following command:\n",
      "C:\\Users\\pavan\\anaconda3\\python.exe -m pip install --upgrade pip setuptools wheel\n"
     ]
    }
   ],
   "source": [
    "# 1.1 Install Dependencies\n",
    "!pip install --upgrade pip setuptools wheel\n"
   ]
  },
  {
   "cell_type": "code",
   "execution_count": 9,
   "id": "9d3b9b11-8bae-4895-9ac2-13c4ab69b133",
   "metadata": {},
   "outputs": [
    {
     "name": "stdout",
     "output_type": "stream",
     "text": [
      "Requirement already satisfied: pip in c:\\users\\pavan\\anaconda3\\lib\\site-packages (24.2)\n",
      "Requirement already satisfied: setuptools in c:\\users\\pavan\\anaconda3\\lib\\site-packages (75.2.0)\n",
      "Requirement already satisfied: wheel in c:\\users\\pavan\\anaconda3\\lib\\site-packages (0.44.0)\n",
      "Collecting tensorflow\n",
      "  Using cached tensorflow-2.17.0-cp312-cp312-win_amd64.whl.metadata (3.2 kB)\n",
      "Collecting opencv-python\n",
      "  Using cached opencv_python-4.10.0.84-cp37-abi3-win_amd64.whl.metadata (20 kB)\n",
      "Requirement already satisfied: matplotlib in c:\\users\\pavan\\anaconda3\\lib\\site-packages (3.8.4)\n",
      "Collecting tensorflow-intel==2.17.0 (from tensorflow)\n",
      "  Downloading tensorflow_intel-2.17.0-cp312-cp312-win_amd64.whl.metadata (5.0 kB)\n",
      "Collecting absl-py>=1.0.0 (from tensorflow-intel==2.17.0->tensorflow)\n",
      "  Downloading absl_py-2.1.0-py3-none-any.whl.metadata (2.3 kB)\n",
      "Collecting astunparse>=1.6.0 (from tensorflow-intel==2.17.0->tensorflow)\n",
      "  Downloading astunparse-1.6.3-py2.py3-none-any.whl.metadata (4.4 kB)\n",
      "Collecting flatbuffers>=24.3.25 (from tensorflow-intel==2.17.0->tensorflow)\n",
      "  Downloading flatbuffers-24.3.25-py2.py3-none-any.whl.metadata (850 bytes)\n",
      "Collecting gast!=0.5.0,!=0.5.1,!=0.5.2,>=0.2.1 (from tensorflow-intel==2.17.0->tensorflow)\n",
      "  Downloading gast-0.6.0-py3-none-any.whl.metadata (1.3 kB)\n",
      "Collecting google-pasta>=0.1.1 (from tensorflow-intel==2.17.0->tensorflow)\n",
      "  Downloading google_pasta-0.2.0-py3-none-any.whl.metadata (814 bytes)\n",
      "Requirement already satisfied: h5py>=3.10.0 in c:\\users\\pavan\\anaconda3\\lib\\site-packages (from tensorflow-intel==2.17.0->tensorflow) (3.11.0)\n",
      "Collecting libclang>=13.0.0 (from tensorflow-intel==2.17.0->tensorflow)\n",
      "  Using cached libclang-18.1.1-py2.py3-none-win_amd64.whl.metadata (5.3 kB)\n",
      "Collecting ml-dtypes<0.5.0,>=0.3.1 (from tensorflow-intel==2.17.0->tensorflow)\n",
      "  Downloading ml_dtypes-0.4.1-cp312-cp312-win_amd64.whl.metadata (20 kB)\n",
      "Collecting opt-einsum>=2.3.2 (from tensorflow-intel==2.17.0->tensorflow)\n",
      "  Downloading opt_einsum-3.4.0-py3-none-any.whl.metadata (6.3 kB)\n",
      "Requirement already satisfied: packaging in c:\\users\\pavan\\anaconda3\\lib\\site-packages (from tensorflow-intel==2.17.0->tensorflow) (23.2)\n",
      "Requirement already satisfied: protobuf!=4.21.0,!=4.21.1,!=4.21.2,!=4.21.3,!=4.21.4,!=4.21.5,<5.0.0dev,>=3.20.3 in c:\\users\\pavan\\anaconda3\\lib\\site-packages (from tensorflow-intel==2.17.0->tensorflow) (3.20.3)\n",
      "Requirement already satisfied: requests<3,>=2.21.0 in c:\\users\\pavan\\anaconda3\\lib\\site-packages (from tensorflow-intel==2.17.0->tensorflow) (2.32.2)\n",
      "Requirement already satisfied: setuptools in c:\\users\\pavan\\anaconda3\\lib\\site-packages (from tensorflow-intel==2.17.0->tensorflow) (75.2.0)\n",
      "Requirement already satisfied: six>=1.12.0 in c:\\users\\pavan\\anaconda3\\lib\\site-packages (from tensorflow-intel==2.17.0->tensorflow) (1.16.0)\n",
      "Collecting termcolor>=1.1.0 (from tensorflow-intel==2.17.0->tensorflow)\n",
      "  Downloading termcolor-2.5.0-py3-none-any.whl.metadata (6.1 kB)\n",
      "Requirement already satisfied: typing-extensions>=3.6.6 in c:\\users\\pavan\\anaconda3\\lib\\site-packages (from tensorflow-intel==2.17.0->tensorflow) (4.11.0)\n",
      "Requirement already satisfied: wrapt>=1.11.0 in c:\\users\\pavan\\anaconda3\\lib\\site-packages (from tensorflow-intel==2.17.0->tensorflow) (1.14.1)\n",
      "Collecting grpcio<2.0,>=1.24.3 (from tensorflow-intel==2.17.0->tensorflow)\n",
      "  Downloading grpcio-1.67.0-cp312-cp312-win_amd64.whl.metadata (4.0 kB)\n",
      "Collecting tensorboard<2.18,>=2.17 (from tensorflow-intel==2.17.0->tensorflow)\n",
      "  Using cached tensorboard-2.17.1-py3-none-any.whl.metadata (1.6 kB)\n",
      "Collecting keras>=3.2.0 (from tensorflow-intel==2.17.0->tensorflow)\n",
      "  Downloading keras-3.6.0-py3-none-any.whl.metadata (5.8 kB)\n",
      "Requirement already satisfied: numpy<2.0.0,>=1.26.0 in c:\\users\\pavan\\anaconda3\\lib\\site-packages (from tensorflow-intel==2.17.0->tensorflow) (1.26.4)\n",
      "Requirement already satisfied: contourpy>=1.0.1 in c:\\users\\pavan\\anaconda3\\lib\\site-packages (from matplotlib) (1.2.0)\n",
      "Requirement already satisfied: cycler>=0.10 in c:\\users\\pavan\\anaconda3\\lib\\site-packages (from matplotlib) (0.11.0)\n",
      "Requirement already satisfied: fonttools>=4.22.0 in c:\\users\\pavan\\anaconda3\\lib\\site-packages (from matplotlib) (4.51.0)\n",
      "Requirement already satisfied: kiwisolver>=1.3.1 in c:\\users\\pavan\\anaconda3\\lib\\site-packages (from matplotlib) (1.4.4)\n",
      "Requirement already satisfied: pillow>=8 in c:\\users\\pavan\\anaconda3\\lib\\site-packages (from matplotlib) (10.3.0)\n",
      "Requirement already satisfied: pyparsing>=2.3.1 in c:\\users\\pavan\\anaconda3\\lib\\site-packages (from matplotlib) (3.0.9)\n",
      "Requirement already satisfied: python-dateutil>=2.7 in c:\\users\\pavan\\anaconda3\\lib\\site-packages (from matplotlib) (2.9.0.post0)\n",
      "Requirement already satisfied: wheel<1.0,>=0.23.0 in c:\\users\\pavan\\anaconda3\\lib\\site-packages (from astunparse>=1.6.0->tensorflow-intel==2.17.0->tensorflow) (0.44.0)\n",
      "Requirement already satisfied: rich in c:\\users\\pavan\\anaconda3\\lib\\site-packages (from keras>=3.2.0->tensorflow-intel==2.17.0->tensorflow) (13.3.5)\n",
      "Collecting namex (from keras>=3.2.0->tensorflow-intel==2.17.0->tensorflow)\n",
      "  Using cached namex-0.0.8-py3-none-any.whl.metadata (246 bytes)\n",
      "Collecting optree (from keras>=3.2.0->tensorflow-intel==2.17.0->tensorflow)\n",
      "  Downloading optree-0.13.0-cp312-cp312-win_amd64.whl.metadata (48 kB)\n",
      "Requirement already satisfied: charset-normalizer<4,>=2 in c:\\users\\pavan\\anaconda3\\lib\\site-packages (from requests<3,>=2.21.0->tensorflow-intel==2.17.0->tensorflow) (2.0.4)\n",
      "Requirement already satisfied: idna<4,>=2.5 in c:\\users\\pavan\\anaconda3\\lib\\site-packages (from requests<3,>=2.21.0->tensorflow-intel==2.17.0->tensorflow) (3.7)\n",
      "Requirement already satisfied: urllib3<3,>=1.21.1 in c:\\users\\pavan\\anaconda3\\lib\\site-packages (from requests<3,>=2.21.0->tensorflow-intel==2.17.0->tensorflow) (2.2.2)\n",
      "Requirement already satisfied: certifi>=2017.4.17 in c:\\users\\pavan\\anaconda3\\lib\\site-packages (from requests<3,>=2.21.0->tensorflow-intel==2.17.0->tensorflow) (2024.8.30)\n",
      "Requirement already satisfied: markdown>=2.6.8 in c:\\users\\pavan\\anaconda3\\lib\\site-packages (from tensorboard<2.18,>=2.17->tensorflow-intel==2.17.0->tensorflow) (3.4.1)\n",
      "Collecting tensorboard-data-server<0.8.0,>=0.7.0 (from tensorboard<2.18,>=2.17->tensorflow-intel==2.17.0->tensorflow)\n",
      "  Using cached tensorboard_data_server-0.7.2-py3-none-any.whl.metadata (1.1 kB)\n",
      "Requirement already satisfied: werkzeug>=1.0.1 in c:\\users\\pavan\\anaconda3\\lib\\site-packages (from tensorboard<2.18,>=2.17->tensorflow-intel==2.17.0->tensorflow) (3.0.3)\n",
      "Requirement already satisfied: MarkupSafe>=2.1.1 in c:\\users\\pavan\\anaconda3\\lib\\site-packages (from werkzeug>=1.0.1->tensorboard<2.18,>=2.17->tensorflow-intel==2.17.0->tensorflow) (2.1.3)\n",
      "Requirement already satisfied: markdown-it-py<3.0.0,>=2.2.0 in c:\\users\\pavan\\anaconda3\\lib\\site-packages (from rich->keras>=3.2.0->tensorflow-intel==2.17.0->tensorflow) (2.2.0)\n",
      "Requirement already satisfied: pygments<3.0.0,>=2.13.0 in c:\\users\\pavan\\anaconda3\\lib\\site-packages (from rich->keras>=3.2.0->tensorflow-intel==2.17.0->tensorflow) (2.15.1)\n",
      "Requirement already satisfied: mdurl~=0.1 in c:\\users\\pavan\\anaconda3\\lib\\site-packages (from markdown-it-py<3.0.0,>=2.2.0->rich->keras>=3.2.0->tensorflow-intel==2.17.0->tensorflow) (0.1.0)\n",
      "Downloading tensorflow-2.17.0-cp312-cp312-win_amd64.whl (2.0 kB)\n",
      "Downloading tensorflow_intel-2.17.0-cp312-cp312-win_amd64.whl (385.2 MB)\n",
      "   ---------------------------------------- 0.0/385.2 MB ? eta -:--:--\n",
      "   ---------------------------------------- 2.9/385.2 MB 18.7 MB/s eta 0:00:21\n",
      "    --------------------------------------- 6.8/385.2 MB 19.1 MB/s eta 0:00:20\n",
      "    --------------------------------------- 8.4/385.2 MB 17.9 MB/s eta 0:00:22\n",
      "   - -------------------------------------- 15.5/385.2 MB 19.5 MB/s eta 0:00:19\n",
      "   -- ------------------------------------- 22.0/385.2 MB 21.8 MB/s eta 0:00:17\n",
      "   -- ------------------------------------- 28.0/385.2 MB 23.1 MB/s eta 0:00:16\n",
      "   --- ------------------------------------ 34.6/385.2 MB 24.4 MB/s eta 0:00:15\n",
      "   ---- ----------------------------------- 41.4/385.2 MB 25.3 MB/s eta 0:00:14\n",
      "   ----- ---------------------------------- 48.8/385.2 MB 26.3 MB/s eta 0:00:13\n",
      "   ----- ---------------------------------- 56.6/385.2 MB 27.3 MB/s eta 0:00:13\n",
      "   ------ --------------------------------- 64.0/385.2 MB 28.1 MB/s eta 0:00:12\n",
      "   ------- -------------------------------- 68.9/385.2 MB 27.6 MB/s eta 0:00:12\n",
      "   ------- -------------------------------- 70.3/385.2 MB 26.5 MB/s eta 0:00:12\n",
      "   ------- -------------------------------- 70.3/385.2 MB 26.5 MB/s eta 0:00:12\n",
      "   ------- -------------------------------- 73.7/385.2 MB 23.5 MB/s eta 0:00:14\n",
      "   -------- ------------------------------- 77.3/385.2 MB 23.1 MB/s eta 0:00:14\n",
      "   -------- ------------------------------- 81.0/385.2 MB 22.8 MB/s eta 0:00:14\n",
      "   -------- ------------------------------- 86.5/385.2 MB 22.9 MB/s eta 0:00:14\n",
      "   --------- ------------------------------ 92.8/385.2 MB 23.3 MB/s eta 0:00:13\n",
      "   --------- ------------------------------ 94.9/385.2 MB 22.6 MB/s eta 0:00:13\n",
      "   ---------- ----------------------------- 97.8/385.2 MB 22.2 MB/s eta 0:00:13\n",
      "   ---------- ----------------------------- 99.1/385.2 MB 21.6 MB/s eta 0:00:14\n",
      "   ---------- ---------------------------- 102.2/385.2 MB 21.2 MB/s eta 0:00:14\n",
      "   ---------- ---------------------------- 106.7/385.2 MB 21.1 MB/s eta 0:00:14\n",
      "   ----------- --------------------------- 110.4/385.2 MB 20.9 MB/s eta 0:00:14\n",
      "   ----------- --------------------------- 114.6/385.2 MB 20.9 MB/s eta 0:00:13\n",
      "   ------------ -------------------------- 119.5/385.2 MB 21.0 MB/s eta 0:00:13\n",
      "   ------------ -------------------------- 126.4/385.2 MB 21.3 MB/s eta 0:00:13\n",
      "   ------------- ------------------------- 130.8/385.2 MB 21.3 MB/s eta 0:00:12\n",
      "   ------------- ------------------------- 137.1/385.2 MB 21.6 MB/s eta 0:00:12\n",
      "   -------------- ------------------------ 142.9/385.2 MB 21.7 MB/s eta 0:00:12\n",
      "   --------------- ----------------------- 149.7/385.2 MB 22.0 MB/s eta 0:00:11\n",
      "   --------------- ----------------------- 157.0/385.2 MB 22.4 MB/s eta 0:00:11\n",
      "   ---------------- ---------------------- 163.6/385.2 MB 22.7 MB/s eta 0:00:10\n",
      "   ----------------- --------------------- 169.9/385.2 MB 23.0 MB/s eta 0:00:10\n",
      "   ----------------- --------------------- 176.2/385.2 MB 23.0 MB/s eta 0:00:10\n",
      "   ------------------ -------------------- 182.7/385.2 MB 23.2 MB/s eta 0:00:09\n",
      "   ------------------ -------------------- 186.6/385.2 MB 23.1 MB/s eta 0:00:09\n",
      "   ------------------- ------------------- 192.7/385.2 MB 23.2 MB/s eta 0:00:09\n",
      "   -------------------- ------------------ 200.0/385.2 MB 23.5 MB/s eta 0:00:08\n",
      "   -------------------- ------------------ 206.0/385.2 MB 23.6 MB/s eta 0:00:08\n",
      "   --------------------- ----------------- 213.1/385.2 MB 23.8 MB/s eta 0:00:08\n",
      "   ---------------------- ---------------- 219.9/385.2 MB 24.0 MB/s eta 0:00:07\n",
      "   ---------------------- ---------------- 226.2/385.2 MB 24.1 MB/s eta 0:00:07\n",
      "   ----------------------- --------------- 229.9/385.2 MB 24.0 MB/s eta 0:00:07\n",
      "   ----------------------- --------------- 236.5/385.2 MB 24.1 MB/s eta 0:00:07\n",
      "   ------------------------ -------------- 243.5/385.2 MB 24.3 MB/s eta 0:00:06\n",
      "   ------------------------- ------------- 250.1/385.2 MB 24.4 MB/s eta 0:00:06\n",
      "   ------------------------- ------------- 255.6/385.2 MB 24.5 MB/s eta 0:00:06\n",
      "   -------------------------- ------------ 260.8/385.2 MB 24.5 MB/s eta 0:00:06\n",
      "   -------------------------- ------------ 264.2/385.2 MB 24.4 MB/s eta 0:00:05\n",
      "   --------------------------- ----------- 270.8/385.2 MB 25.1 MB/s eta 0:00:05\n",
      "   ---------------------------- ---------- 277.9/385.2 MB 24.9 MB/s eta 0:00:05\n",
      "   ---------------------------- ---------- 284.4/385.2 MB 24.9 MB/s eta 0:00:05\n",
      "   ----------------------------- --------- 291.2/385.2 MB 24.9 MB/s eta 0:00:04\n",
      "   ----------------------------- --------- 295.4/385.2 MB 24.8 MB/s eta 0:00:04\n",
      "   ------------------------------ -------- 300.4/385.2 MB 24.6 MB/s eta 0:00:04\n",
      "   ------------------------------- ------- 307.2/385.2 MB 24.6 MB/s eta 0:00:04\n",
      "   ------------------------------- ------- 314.3/385.2 MB 24.6 MB/s eta 0:00:03\n",
      "   -------------------------------- ------ 320.9/385.2 MB 24.5 MB/s eta 0:00:03\n",
      "   --------------------------------- ----- 327.7/385.2 MB 24.5 MB/s eta 0:00:03\n",
      "   --------------------------------- ----- 334.0/385.2 MB 25.5 MB/s eta 0:00:03\n",
      "   ---------------------------------- ---- 340.5/385.2 MB 26.1 MB/s eta 0:00:02\n",
      "   ----------------------------------- --- 347.6/385.2 MB 26.4 MB/s eta 0:00:02\n",
      "   ----------------------------------- --- 354.9/385.2 MB 26.5 MB/s eta 0:00:02\n",
      "   ------------------------------------ -- 360.7/385.2 MB 27.4 MB/s eta 0:00:01\n",
      "   ------------------------------------- - 367.5/385.2 MB 28.1 MB/s eta 0:00:01\n",
      "   ------------------------------------- - 374.6/385.2 MB 28.6 MB/s eta 0:00:01\n",
      "   --------------------------------------  381.2/385.2 MB 28.9 MB/s eta 0:00:01\n",
      "   --------------------------------------  385.1/385.2 MB 28.8 MB/s eta 0:00:01\n",
      "   --------------------------------------  385.1/385.2 MB 28.8 MB/s eta 0:00:01\n",
      "   --------------------------------------  385.1/385.2 MB 28.8 MB/s eta 0:00:01\n",
      "   --------------------------------------  385.1/385.2 MB 28.8 MB/s eta 0:00:01\n",
      "   --------------------------------------  385.1/385.2 MB 28.8 MB/s eta 0:00:01\n",
      "   --------------------------------------- 385.2/385.2 MB 26.2 MB/s eta 0:00:00\n",
      "Using cached opencv_python-4.10.0.84-cp37-abi3-win_amd64.whl (38.8 MB)\n",
      "Downloading absl_py-2.1.0-py3-none-any.whl (133 kB)\n",
      "Downloading astunparse-1.6.3-py2.py3-none-any.whl (12 kB)\n",
      "Downloading flatbuffers-24.3.25-py2.py3-none-any.whl (26 kB)\n",
      "Downloading gast-0.6.0-py3-none-any.whl (21 kB)\n",
      "Downloading google_pasta-0.2.0-py3-none-any.whl (57 kB)\n",
      "Downloading grpcio-1.67.0-cp312-cp312-win_amd64.whl (4.3 MB)\n",
      "   ---------------------------------------- 0.0/4.3 MB ? eta -:--:--\n",
      "   ------------------------------------ --- 3.9/4.3 MB 21.3 MB/s eta 0:00:01\n",
      "   ---------------------------------------- 4.3/4.3 MB 21.8 MB/s eta 0:00:00\n",
      "Downloading keras-3.6.0-py3-none-any.whl (1.2 MB)\n",
      "   ---------------------------------------- 0.0/1.2 MB ? eta -:--:--\n",
      "   ---------------------------------------- 1.2/1.2 MB 20.2 MB/s eta 0:00:00\n",
      "Using cached libclang-18.1.1-py2.py3-none-win_amd64.whl (26.4 MB)\n",
      "Downloading ml_dtypes-0.4.1-cp312-cp312-win_amd64.whl (127 kB)\n",
      "Downloading opt_einsum-3.4.0-py3-none-any.whl (71 kB)\n",
      "Using cached tensorboard-2.17.1-py3-none-any.whl (5.5 MB)\n",
      "Downloading termcolor-2.5.0-py3-none-any.whl (7.8 kB)\n",
      "Using cached tensorboard_data_server-0.7.2-py3-none-any.whl (2.4 kB)\n",
      "Using cached namex-0.0.8-py3-none-any.whl (5.8 kB)\n",
      "Downloading optree-0.13.0-cp312-cp312-win_amd64.whl (283 kB)\n",
      "Installing collected packages: namex, libclang, flatbuffers, termcolor, tensorboard-data-server, optree, opt-einsum, opencv-python, ml-dtypes, grpcio, google-pasta, gast, astunparse, absl-py, tensorboard, keras, tensorflow-intel, tensorflow\n",
      "Successfully installed absl-py-2.1.0 astunparse-1.6.3 flatbuffers-24.3.25 gast-0.6.0 google-pasta-0.2.0 grpcio-1.67.0 keras-3.6.0 libclang-18.1.1 ml-dtypes-0.4.1 namex-0.0.8 opencv-python-4.10.0.84 opt-einsum-3.4.0 optree-0.13.0 tensorboard-2.17.1 tensorboard-data-server-0.7.2 tensorflow-2.17.0 tensorflow-intel-2.17.0 termcolor-2.5.0\n"
     ]
    }
   ],
   "source": [
    "!C:\\Users\\pavan\\anaconda3\\python.exe -m pip install --upgrade pip setuptools wheel\n",
    "!pip install tensorflow opencv-python matplotlib"
   ]
  },
  {
   "cell_type": "code",
   "execution_count": 11,
   "id": "113865d8-df17-4dc6-bdde-4fdaf0d1f1ca",
   "metadata": {},
   "outputs": [],
   "source": [
    "# Import standard dependencies\n",
    "import cv2\n",
    "import os\n",
    "import random\n",
    "import numpy as np\n",
    "from matplotlib import pyplot as plt"
   ]
  },
  {
   "cell_type": "code",
   "execution_count": 13,
   "id": "1fdbe328-be2f-4d62-a073-502b921c4042",
   "metadata": {},
   "outputs": [],
   "source": [
    "# Import tensorflow dependencies - Functional API\n",
    "from tensorflow.keras.models import Model\n",
    "from tensorflow.keras.layers import Layer, Conv2D, Dense, MaxPooling2D, Input, Flatten\n",
    "import tensorflow as tf"
   ]
  },
  {
   "cell_type": "code",
   "execution_count": 17,
   "id": "1540649e-ff6d-4d92-9aa9-e8e1b2152847",
   "metadata": {},
   "outputs": [
    {
     "name": "stdout",
     "output_type": "stream",
     "text": [
      "1\n"
     ]
    }
   ],
   "source": [
    "# Avoid OOM errors by setting GPU Memory Consumption Growth\n",
    "gpus = tf.config.experimental.list_physical_devices('GPU')\n",
    "for gpu in gpus: \n",
    "    tf.config.experimental.set_memory_growth(gpu, True)\n",
    "print(\"1\")"
   ]
  },
  {
   "cell_type": "code",
   "execution_count": 29,
   "id": "affad2c5-1578-4a5d-bcd7-1024aebf3750",
   "metadata": {},
   "outputs": [],
   "source": [
    "# Setup paths\n",
    "POS_PATH = os.path.join('data1', 'positive')\n",
    "NEG_PATH = os.path.join('data1', 'negative')\n",
    "ANC_PATH = os.path.join('data1', 'anchor')"
   ]
  },
  {
   "cell_type": "code",
   "execution_count": 31,
   "id": "a31d364e-6893-47fc-8986-dd7b852e55df",
   "metadata": {},
   "outputs": [],
   "source": [
    "# Make the directories\n",
    "os.makedirs(POS_PATH)\n",
    "os.makedirs(NEG_PATH)\n",
    "os.makedirs(ANC_PATH)"
   ]
  },
  {
   "cell_type": "code",
   "execution_count": 33,
   "id": "7a38386a-60e2-4b70-9ba1-ae3e2c7b7a6f",
   "metadata": {},
   "outputs": [],
   "source": [
    "#2. Collect Positives and Anchors"
   ]
  },
  {
   "cell_type": "code",
   "execution_count": 35,
   "id": "08763f4e-f883-46a0-adbb-c32b38e51c61",
   "metadata": {},
   "outputs": [],
   "source": [
    "#2.1 Untar Labelled Faces in the Wild Dataset"
   ]
  },
  {
   "cell_type": "code",
   "execution_count": 37,
   "id": "ca33e45f-8df4-48fb-8064-bb697701ca2d",
   "metadata": {},
   "outputs": [],
   "source": [
    "!tar -xf a.tgz"
   ]
  },
  {
   "cell_type": "code",
   "execution_count": 41,
   "id": "1e755531-238f-4ded-89a9-5259aa37af01",
   "metadata": {},
   "outputs": [],
   "source": [
    "# Move LFW Images to the following repository data/negative\n",
    "for directory in os.listdir('lfw'):\n",
    "    for file in os.listdir(os.path.join('lfw', directory)):\n",
    "        EX_PATH = os.path.join('lfw', directory, file)\n",
    "        NEW_PATH = os.path.join(NEG_PATH, file)\n",
    "        os.replace(EX_PATH, NEW_PATH)"
   ]
  },
  {
   "cell_type": "code",
   "execution_count": 43,
   "id": "5da912dc-10eb-414b-b1b0-86b46362b329",
   "metadata": {},
   "outputs": [],
   "source": [
    "# 2.2 Collect Positive and Anchor Classes"
   ]
  },
  {
   "cell_type": "code",
   "execution_count": 45,
   "id": "c5063057-54ef-43c0-97cf-80c23ab7c881",
   "metadata": {},
   "outputs": [],
   "source": [
    "# Import uuid library to generate unique image names\n",
    "import uuid"
   ]
  },
  {
   "cell_type": "code",
   "execution_count": 47,
   "id": "e2d83ab9-5bf1-482f-a240-c670761689b8",
   "metadata": {},
   "outputs": [
    {
     "data": {
      "text/plain": [
       "'data1\\\\anchor\\\\285b2297-8f30-11ef-9eff-28c5d2259639.jpg'"
      ]
     },
     "execution_count": 47,
     "metadata": {},
     "output_type": "execute_result"
    }
   ],
   "source": [
    "os.path.join(ANC_PATH, '{}.jpg'.format(uuid.uuid1()))"
   ]
  },
  {
   "cell_type": "code",
   "execution_count": 60,
   "id": "b04ec475-a278-4e1c-b60c-bb364e533a99",
   "metadata": {},
   "outputs": [],
   "source": [
    "# Establish a connection to the webcam\n",
    "cap = cv2.VideoCapture(0)\n",
    "while cap.isOpened(): \n",
    "    ret, frame = cap.read()\n",
    "   \n",
    "    # Cut down frame to 250x250px\n",
    "    frame = frame[120:120+250,200:200+250, :]\n",
    "    \n",
    "    # Collect anchors \n",
    "    if cv2.waitKey(1) & 0XFF == ord('a'):\n",
    "        # Create the unique file path \n",
    "        imgname = os.path.join(ANC_PATH, '{}.jpg'.format(uuid.uuid1()))\n",
    "        # Write out anchor image\n",
    "        cv2.imwrite(imgname, frame)\n",
    "    \n",
    "    # Collect positives\n",
    "    if cv2.waitKey(1) & 0XFF == ord('p'):\n",
    "        # Create the unique file path \n",
    "        imgname = os.path.join(POS_PATH, '{}.jpg'.format(uuid.uuid1()))\n",
    "        # Write out positive image\n",
    "        cv2.imwrite(imgname, frame)\n",
    "    \n",
    "    # Show image back to screen\n",
    "    cv2.imshow('Image Collection', frame)\n",
    "    \n",
    "    # Breaking gracefully\n",
    "    if cv2.waitKey(1) & 0XFF == ord('q'):\n",
    "        break\n",
    "        \n",
    "# Release the webcam\n",
    "cap.release()\n",
    "# Close the image show frame\n",
    "cv2.destroyAllWindows()"
   ]
  },
  {
   "cell_type": "code",
   "execution_count": null,
   "id": "75640136-47e3-49d8-99a9-031df5e13301",
   "metadata": {},
   "outputs": [],
   "source": [
    "plt.imshow(frame[120:120+250,200:200+250, :])"
   ]
  },
  {
   "cell_type": "code",
   "execution_count": null,
   "id": "0378ec85-6b76-4112-b31d-1e7574375ed0",
   "metadata": {},
   "outputs": [],
   "source": []
  }
 ],
 "metadata": {
  "kernelspec": {
   "display_name": "Python 3 (ipykernel)",
   "language": "python",
   "name": "python3"
  },
  "language_info": {
   "codemirror_mode": {
    "name": "ipython",
    "version": 3
   },
   "file_extension": ".py",
   "mimetype": "text/x-python",
   "name": "python",
   "nbconvert_exporter": "python",
   "pygments_lexer": "ipython3",
   "version": "3.12.4"
  }
 },
 "nbformat": 4,
 "nbformat_minor": 5
}
